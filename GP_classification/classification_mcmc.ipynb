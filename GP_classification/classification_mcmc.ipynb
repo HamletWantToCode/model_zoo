{
 "cells": [
  {
   "cell_type": "code",
   "execution_count": null,
   "metadata": {},
   "outputs": [],
   "source": [
    "using Pkg\n",
    "Pkg.activate(\"../.\")"
   ]
  },
  {
   "cell_type": "code",
   "execution_count": 2,
   "metadata": {},
   "outputs": [],
   "source": [
    "using Turing\n",
    "using Stheno\n",
    "using RDatasets\n",
    "using Random; Random.seed!(5)\n",
    "using Plots\n",
    "using Statistics"
   ]
  },
  {
   "cell_type": "markdown",
   "metadata": {},
   "source": [
    "# Gaussian process classification\n",
    "## Introduction\n",
    "In classification problems, we map features $x$ to it's label $c$, we can decompose this process as two functions $f$ and $g$, $f$ is some nonlinear function that transforms $x$ to middle variables $z$, and $g$ is the sigmoid function that maps $z$ to probability of taking a particular class.\n",
    "\n",
    "We can summarise the binary classification problem as:\n",
    "$$\n",
    "\\begin{gather}\n",
    "z=f(x)\\\\\n",
    "p=\\sigma(z)\\\\\n",
    "c=\\left\\{\\begin{array}{rl}\n",
    "    1 & \\text{if } p>0.5\\\\\n",
    "    0 & \\text{if } p\\le0.5\n",
    "    \\end{array}\\right.\n",
    "\\end{gather}\n",
    "$$\n",
    "\n",
    "We can assign $f$ a Gaussian process prior, and model the likelihood function $p(c|z)$ by Bernoulli distribution, the overall probability model can be writen as:\n",
    "$$\n",
    "p(c|x) = \\int p(c|f, x)p(f)\\mathbb{d}f\n",
    "$$\n",
    "but unlike regression case, the integral over $f$ is intractable, therefore, to perform parameter estimation and inference we need to use Monte Carlo method."
   ]
  },
  {
   "cell_type": "code",
   "execution_count": 3,
   "metadata": {},
   "outputs": [],
   "source": [
    "# data preparation\n",
    "crabs = dataset(\"MASS\",\"crabs\")\n",
    "crabs = crabs[shuffle(1:size(crabs, 1)), :]\n",
    "train = crabs[1:div(end,2), :]\n",
    "test = crabs[div(end,2)+1:end, :]\n",
    "\n",
    "train_y = Array{Bool}(undef,size(train, 1))\n",
    "train_y[train.Sp.==\"B\"].=0\n",
    "train_y[train.Sp.==\"O\"].=1\n",
    "train_x = Matrix(transpose(convert(Array,train[:,4:end])))\n",
    "\n",
    "test_y = Array{Bool}(undef, size(test, 1))\n",
    "test_y[test.Sp.==\"B\"].=0\n",
    "test_y[test.Sp.==\"O\"].=1\n",
    "test_x = Matrix(transpose(convert(Array, test[:, 4:end])));"
   ]
  },
  {
   "cell_type": "code",
   "execution_count": 4,
   "metadata": {},
   "outputs": [
    {
     "name": "stdout",
     "output_type": "stream",
     "text": [
      "size(train_x) = (5, 100)\n",
      "size(test_x) = (5, 100)\n"
     ]
    },
    {
     "data": {
      "text/plain": [
       "(5, 100)"
      ]
     },
     "execution_count": 4,
     "metadata": {},
     "output_type": "execute_result"
    }
   ],
   "source": [
    "@show size(train_x)\n",
    "@show size(test_x)"
   ]
  },
  {
   "cell_type": "code",
   "execution_count": 87,
   "metadata": {},
   "outputs": [
    {
     "data": {
      "text/plain": [
       "gpc_learn (generic function with 3 methods)"
      ]
     },
     "execution_count": 87,
     "metadata": {},
     "output_type": "execute_result"
    }
   ],
   "source": [
    "σ(x) = 1.0 / (1.0+exp(-x))\n",
    "\n",
    "function build_gp(logl, σ², X)\n",
    "    ard_eq_kernel = σ² * stretch(EQ(), exp.(-logl))\n",
    "    gp = GP(ard_eq_kernel, GPC())\n",
    "    prior = gp(ColVecs(X), 1e-6)\n",
    "    gp, prior\n",
    "end\n",
    "\n",
    "# model that learn θ and latent variable f\n",
    "@model gpc_learn(X, y) = begin\n",
    "    logl ~ Normal(0.0, 2.0)\n",
    "    _, prior = build_gp(logl, 1.0, X)\n",
    "    f ~ prior\n",
    "    for i in eachindex(y)\n",
    "        y[i] ~ Bernoulli(σ(f[i]))\n",
    "    end\n",
    "end"
   ]
  },
  {
   "cell_type": "code",
   "execution_count": 106,
   "metadata": {},
   "outputs": [
    {
     "data": {
      "text/plain": [
       "gpc_infer (generic function with 1 method)"
      ]
     },
     "execution_count": 106,
     "metadata": {},
     "output_type": "execute_result"
    }
   ],
   "source": [
    "# inference model (using the MAP)\n",
    "function gpc_infer(x, logl, Xtrain, fsamples)\n",
    "    nsamples = size(fsamples, 2)\n",
    "    fxs = []\n",
    "    for i in 1:nsamples\n",
    "        gp, prior = build_gp(logl[i], 1.0, Xtrain)\n",
    "        new_gp = gp | Obs(prior, fsamples[:, i])\n",
    "        posterior = new_gp(ColVecs(x))\n",
    "        push!(fxs, mean(posterior))\n",
    "    end\n",
    "    fx_mean = vec(mean(hcat(fxs...), dims=2))\n",
    "    p = σ.(fx_mean)\n",
    "    y = Int.(p .> 0.5)\n",
    "    y\n",
    "end"
   ]
  },
  {
   "cell_type": "code",
   "execution_count": 114,
   "metadata": {},
   "outputs": [
    {
     "name": "stderr",
     "output_type": "stream",
     "text": [
      "\u001b[32mSampling 100%|███████████████████████████████| Time: 0:49:47\u001b[39m\n"
     ]
    }
   ],
   "source": [
    "model = gpc_learn(train_x, train_y)\n",
    "mcmc_samples = sample(model, HMC(0.01, 10), 5000);"
   ]
  },
  {
   "cell_type": "code",
   "execution_count": 116,
   "metadata": {},
   "outputs": [
    {
     "name": "stdout",
     "output_type": "stream",
     "text": [
      "size(reserve_logl) = (4000,)\n",
      "eltype(reserve_logl) = Float64\n"
     ]
    },
    {
     "data": {
      "text/plain": [
       "Float64"
      ]
     },
     "execution_count": 116,
     "metadata": {},
     "output_type": "execute_result"
    }
   ],
   "source": [
    "logl_df = mcmc_samples[:logl]\n",
    "logl = vec(logl_df.value.data)\n",
    "logl = Array{Float64}(logl)\n",
    "reserve_logl = logl[1001:end]\n",
    "@show size(reserve_logl)\n",
    "@show eltype(reserve_logl)"
   ]
  },
  {
   "cell_type": "code",
   "execution_count": 117,
   "metadata": {},
   "outputs": [
    {
     "name": "stdout",
     "output_type": "stream",
     "text": [
      "size(reserve_fsamples) = (100, 4000)\n",
      "eltype(reserve_fsamples) = Float64\n"
     ]
    },
    {
     "data": {
      "text/plain": [
       "Float64"
      ]
     },
     "execution_count": 117,
     "metadata": {},
     "output_type": "execute_result"
    }
   ],
   "source": [
    "fsamples_df = mcmc_samples[:f]\n",
    "fsamples = Matrix(transpose(dropdims(fsamples_df.value.data, dims=3)))\n",
    "fsamples = convert.(Float64, fsamples)\n",
    "reserve_fsamples = fsamples[:, 1001:end]\n",
    "@show size(reserve_fsamples)\n",
    "@show eltype(reserve_fsamples)"
   ]
  },
  {
   "cell_type": "code",
   "execution_count": 118,
   "metadata": {},
   "outputs": [],
   "source": [
    "pred_y = gpc_infer(test_x, reserve_logl, train_x, reserve_fsamples);"
   ]
  },
  {
   "cell_type": "code",
   "execution_count": 119,
   "metadata": {},
   "outputs": [
    {
     "data": {
      "text/plain": [
       "100×2 Array{Int64,2}:\n",
       " 0  0\n",
       " 1  0\n",
       " 1  1\n",
       " 1  0\n",
       " 1  1\n",
       " 1  1\n",
       " 0  0\n",
       " 0  0\n",
       " 1  1\n",
       " 0  0\n",
       " 1  1\n",
       " 1  1\n",
       " 1  1\n",
       " ⋮   \n",
       " 1  1\n",
       " 0  0\n",
       " 1  1\n",
       " 0  0\n",
       " 0  0\n",
       " 1  1\n",
       " 0  1\n",
       " 0  0\n",
       " 0  0\n",
       " 1  1\n",
       " 0  0\n",
       " 0  0"
      ]
     },
     "execution_count": 119,
     "metadata": {},
     "output_type": "execute_result"
    }
   ],
   "source": [
    "hcat(pred_y, test_y)"
   ]
  },
  {
   "cell_type": "code",
   "execution_count": 120,
   "metadata": {},
   "outputs": [
    {
     "data": {
      "text/plain": [
       "0.89"
      ]
     },
     "execution_count": 120,
     "metadata": {},
     "output_type": "execute_result"
    }
   ],
   "source": [
    "# accuracy function\n",
    "function accuracy(pred_y, y)\n",
    "    N = length(y)\n",
    "    N_neq = sum(abs.(pred_y .- y))\n",
    "    r = 1.0 - N_neq / N\n",
    "    r\n",
    "end\n",
    "\n",
    "accuracy(pred_y, test_y)"
   ]
  }
 ],
 "metadata": {
  "kernelspec": {
   "display_name": "julia 1.3.0",
   "language": "julia",
   "name": "julia-1.3"
  },
  "language_info": {
   "file_extension": ".jl",
   "mimetype": "application/julia",
   "name": "julia",
   "version": "1.3.0"
  }
 },
 "nbformat": 4,
 "nbformat_minor": 4
}
